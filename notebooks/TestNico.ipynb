{
 "cells": [
  {
   "cell_type": "code",
   "execution_count": 49,
   "metadata": {
    "collapsed": false
   },
   "outputs": [
    {
     "name": "stdout",
     "output_type": "stream",
     "text": [
      "Populating the interactive namespace from numpy and matplotlib\n"
     ]
    }
   ],
   "source": [
    "import scipy as sp\n",
    "from matplotlib import pyplot as plt\n",
    "%pylab inline\n",
    "import yaml"
   ]
  },
  {
   "cell_type": "code",
   "execution_count": 3,
   "metadata": {
    "collapsed": false
   },
   "outputs": [
    {
     "name": "stdout",
     "output_type": "stream",
     "text": [
      "[{'crab_pulsar': {'polar': {'angle': 190, 'degree': 17.8}, 'spectrum': {'powerlaw': {'K': 1, 'gamma': 2}}, 'spatial': {'point': {'dec': 22.01, 'ra': 83.63}}}}, {'crab_nebula': None}]\n"
     ]
    }
   ],
   "source": [
    "document='''\n",
    "- crab_pulsar:\n",
    "    spectrum : \n",
    "        powerlaw:\n",
    "             K : 1\n",
    "             gamma : 2\n",
    "    spatial  : \n",
    "        point :\n",
    "            ra : 83.63\n",
    "            dec : 22.01\n",
    "    polar :\n",
    "        angle : 190\n",
    "        degree : 17.8\n",
    "- crab_nebula:\n",
    "'''\n",
    "print yaml.load(document)"
   ]
  },
  {
   "cell_type": "code",
   "execution_count": 4,
   "metadata": {
    "collapsed": false
   },
   "outputs": [
    {
     "name": "stdout",
     "output_type": "stream",
     "text": [
      "['a', 'b']\n"
     ]
    }
   ],
   "source": [
    "documet='''\n",
    "- a\n",
    "- b\n",
    "'''\n",
    "print yaml.load(documet)"
   ]
  },
  {
   "cell_type": "code",
   "execution_count": null,
   "metadata": {
    "collapsed": true
   },
   "outputs": [],
   "source": []
  },
  {
   "cell_type": "code",
   "execution_count": 284,
   "metadata": {
    "collapsed": false
   },
   "outputs": [],
   "source": [
    "import scipy\n",
    "from scipy import integrate,optimize,interpolate\n",
    "import sys\n",
    "\n",
    "class xSimulator(object):\n",
    "    def __init__(self,userFunction,userIntegral=None):\n",
    "        self.userFunction         = userFunction        \n",
    "        if(userIntegral!=None):\n",
    "            self.integral           = userIntegral\n",
    "        else:\n",
    "            self.integral           = lambda x,y: scipy.integrate.quad(self.userFunction,x,y,epsrel=1e-3)[0]\n",
    "        pass\n",
    "    \n",
    "    def setMinMax(self,minX,maxX):\n",
    "        self.minX          = minX\n",
    "        self.maxX          = maxX\n",
    "        self.totalIntegral = self.integral(self.minX,self.maxX)\n",
    "        self.nEvents       = scipy.random.poisson(self.totalIntegral)\n",
    "        \n",
    "        def froot(u):\n",
    "            f  = lambda x: self.integral(self.minX,x)/self.totalIntegral-u\n",
    "            x0 = scipy.optimize.brentq(f,self.minX,self.maxX)\n",
    "            return x0\n",
    "        self.froot = froot\n",
    "        pass        \n",
    "\n",
    "    def generate(self,nEvents=None):\n",
    "        if nEvents is None: nEvents=self.nEvents\n",
    "        X0                          = scipy.zeros(nEvents)\n",
    "        j                           = 0\n",
    "        uu                          = scipy.random.uniform(0,1,nEvents)\n",
    "        for i in range(nEvents):\n",
    "            X0[i]                     = self.froot(uu[i])\n",
    "            pass\n",
    "        print(\"Done\")\n",
    "        X0.sort()\n",
    "        self.events                 = X0\n",
    "        return self.events\n",
    "    \n",
    "    def plot(self,nbins=300):\n",
    "        from matplotlib import pyplot as plt\n",
    "        counts,bin_edges          = scipy.histogram(self.events,nbins)\n",
    "        bin_centres               = (bin_edges[:-1] + bin_edges[1:])/2.\n",
    "        err                       = scipy.sqrt(counts)\n",
    "\n",
    "        binsize                   = bin_edges[2]-bin_edges[1]\n",
    "        xx                        = scipy.linspace(bin_edges[0],bin_edges[-1],1000)\n",
    "        yy                        = scipy.array(self.userFunction(xx))*binsize\n",
    "        #f,sub                     = plt.subplots(1,1,1)\n",
    "        plt.plot(xx,yy,linewidth=1,color='#d95f02')\n",
    "        plt.errorbar(bin_centres, counts, yerr=err, fmt='.',capsize=0,alpha=1,color='#7570b3')\n",
    "        #plt.xlabel(\"Time (s)\")\n",
    "        #plt.ylabel(\"Counts\")\n",
    "        pass\n",
    "\n",
    "#class Spectrum(object):\n",
    "#    def __init__(self,function,emin,emax):\n",
    "#        self.function="
   ]
  },
  {
   "cell_type": "code",
   "execution_count": 122,
   "metadata": {
    "collapsed": false
   },
   "outputs": [],
   "source": [
    "class xLightCurve(object):\n",
    "    def __init__(self):\n",
    "        self.f = None\n",
    "        pass\n",
    "    def Steady(self,rate):  \n",
    "        self.f = rate\n",
    "    def FunctionalLightCurve(self,function):\n",
    "        self.f = function\n",
    "        pass\n",
    "    def TemplateLightCurve(self,times,rates):\n",
    "        self.f = interpolate.UnivariateSpline(times,rates,k=1,s=0)\n",
    "        pass\n",
    "    def Phase(self,rate,period):\n",
    "        pass\n",
    "    def __call__(self,x):\n",
    "        if isinstance(self.f,float): return sp.ones_like(x)*self.f\n",
    "        return self.f(x)"
   ]
  },
  {
   "cell_type": "code",
   "execution_count": 288,
   "metadata": {
    "collapsed": false
   },
   "outputs": [
    {
     "name": "stdout",
     "output_type": "stream",
     "text": [
      "Component (pl1+pl2)*(co1) added\n"
     ]
    },
    {
     "data": {
      "image/png": "[encoded data removed]",
      "text/plain": [
       "<matplotlib.figure.Figure at 0x117057750>"
      ]
     },
     "metadata": {},
     "output_type": "display_data"
    }
   ],
   "source": [
    "from astropy import units as u\n",
    "from astropy import coordinates as coord\n",
    "\n",
    "class xSpectralComponent():\n",
    "    '''Spectral Component class:\n",
    "    define the spectral component that can be used to build a model spectrum to use with the simulator\n",
    "    author: nicola.omodei@stanford.edu\n",
    "    '''\n",
    "    def __init__(self,name):\n",
    "        self.name=name\n",
    "        self.degree=0\n",
    "        self.angle=0\n",
    "        self.f=None\n",
    "        pass\n",
    "    \n",
    "    def powerlaw(self,C,gamma):\n",
    "        'C is the normalization at 1keV'\n",
    "        self.f=lambda x: C*pow(x,gamma)\n",
    "        pass\n",
    "\n",
    "    def highecut(self,foldE,cutoffE=0.0):\n",
    "        'C is the normalization at 1keV'\n",
    "        self.f=lambda x: exp(-sp.maximum(0.0,(x-cutoffE)/foldE))\n",
    "        pass\n",
    "\n",
    "\n",
    "    \n",
    "    def __call__(self,x):\n",
    "        return self.f(x)\n",
    "    \n",
    "    def __add__(self,other):\n",
    "        \n",
    "        newname='%s+%s'%(self.name,other.name)\n",
    "        summed=xSpectralComponent(newname)\n",
    "        summed.f=lambda x: self.f(x)+other.f(x)\n",
    "        return summed\n",
    "\n",
    "    def __mul__(self,other):    \n",
    "        newname='(%s)*(%s)'%(self.name,other.name)\n",
    "        multiplied=xSpectralComponent(newname)\n",
    "        multiplied.f=lambda x: self.f(x)*other.f(x)\n",
    "        return multiplied\n",
    "    \n",
    "    def polarization(self,degree,angle):\n",
    "        self.degree=degree\n",
    "        self.angle =angle\n",
    "        \n",
    "    def plot(self,x,*args, **kwargs):\n",
    "        from matplotlib import pyplot as plt\n",
    "        plt.plot(x,self.f(x),label=self.name,*args, **kwargs)\n",
    "        pass\n",
    "    \n",
    "class xSource():\n",
    "    '''Source class:\n",
    "    name of the source can be automatically resolved by NED and SIMBAD\n",
    "    astropy.coordinates handle coordinate transformations\n",
    "    astropy.units define units for the different quantities\n",
    "    \n",
    "    author: nicola.omodei@stanford.edu\n",
    "    '''\n",
    "    def __init__(self,name,resolve_name=True):\n",
    "        self.name=name\n",
    "        if resolve_name: \n",
    "            try:\n",
    "                self.coord=coord.SkyCoord.from_name(name)\n",
    "            except:\n",
    "                print 'WARNING [xSource]: Unable to find coordinates for name %s' % name \n",
    "                self.setLB(0,0)  \n",
    "            pass\n",
    "        else: self.setLB(0,0)\n",
    "        self.components=sp.array([])\n",
    "        \n",
    "    def setSkyCord(self,coord):\n",
    "        self.coord=coord\n",
    "\n",
    "    def setRADec(self,ra,dec):\n",
    "        self.setSkyCord(coord.SkyCoord(ra=ra*u.deg, dec=dec*u.deg, frame='fk5'))\n",
    "    \n",
    "    def setLB(self,l,b):\n",
    "        self.setSkyCord(coord.SkyCoord(l=l*u.deg, b=b*u.deg, frame='galactic'))\n",
    "\n",
    "    def getSetSkyCord(self): \n",
    "        return self.coord\n",
    "    \n",
    "    def getRADec(self): \n",
    "        return self.coord.fk5.ra.deg,self.coord.fk5.dec.deg\n",
    "    \n",
    "    def getLB(self): \n",
    "        return self.coord.galactic.l.deg,self.coord.galactic.b.deg\n",
    "    \n",
    "    def addComponent(self,component):\n",
    "        print 'Component %s added' % component.name\n",
    "        self.components=sp.append(self.components,component)\n",
    "        pass\n",
    "\n",
    "    \n",
    "\n",
    "# EXAMPLE:\n",
    "Crab=xSource('Crab',resolve_name=False)\n",
    "Crab.setRADec(83.63309062468973, 22.014494786634714)\n",
    "\n",
    "pl1 = xSpectralComponent('pl1')\n",
    "pl2 = xSpectralComponent('pl2')\n",
    "co1 = xSpectralComponent('co1')\n",
    "\n",
    "pl1.powerlaw(1.0,-2)\n",
    "pl2.powerlaw(1.0,-1)\n",
    "pl3=pl1+pl2\n",
    "\n",
    "co1.highecut(2.0,5.0)\n",
    "\n",
    "synch=(pl1+pl2)*co1\n",
    "\n",
    "xx=sp.linspace(1,10,100)\n",
    "pl1.plot(xx)\n",
    "pl2.plot(xx)\n",
    "pl3.plot(xx,':')\n",
    "synch.plot(xx,'r')\n",
    "\n",
    "plt.xscale('log')\n",
    "plt.yscale('log')\n",
    "plt.legend()\n",
    "synch.polarization(degree=0.17,angle=67)\n",
    "Crab.addComponent(synch)\n",
    "\n",
    "#Crab.AddComponent(...)\n",
    "#Crab.TemporalProfile()\n",
    "\n",
    "#CygX1=xSource('Cyg X-1')\n",
    "#Crab.SetRADec(83.633083,22.014500)\n",
    "#print Crab.getLB()\n",
    "#print Crab.getRADec()\n",
    "#l,b=Crab.getLB()\n",
    "#Crab.setLB(l,b)\n",
    "#print Crab.getLB()\n",
    "#print Crab.getRADec()\n",
    "#Angle=Crab.coord.separation(CygX1.coord)\n",
    "#print Angle.deg\n"
   ]
  },
  {
   "cell_type": "code",
   "execution_count": 123,
   "metadata": {
    "collapsed": false
   },
   "outputs": [
    {
     "name": "stdout",
     "output_type": "stream",
     "text": [
      "Done\n"
     ]
    },
    {
     "data": {
      "image/png": "[encoded data removed]",
      "text/plain": [
       "<matplotlib.figure.Figure at 0x113254ad0>"
      ]
     },
     "metadata": {},
     "output_type": "display_data"
    }
   ],
   "source": [
    "#1 case of a simple constant function:\n",
    "lc=xLightCurve()\n",
    "lc.Steady(100.0)\n",
    "S=xSimulator(lc)\n",
    "S.SetMinMax(0,100)\n",
    "S.generate()\n",
    "S.plot(100)"
   ]
  },
  {
   "cell_type": "code",
   "execution_count": 90,
   "metadata": {
    "collapsed": false
   },
   "outputs": [
    {
     "name": "stdout",
     "output_type": "stream",
     "text": [
      "Done\n"
     ]
    },
    {
     "data": {
      "image/png": "[encoded data removed]",
      "text/plain": [
       "<matplotlib.figure.Figure at 0x1122fb390>"
      ]
     },
     "metadata": {},
     "output_type": "display_data"
    }
   ],
   "source": [
    "#1 case of a template (points in x and y):\n",
    "tmin=0\n",
    "tmax=10\n",
    "x=sp.linspace(tmin,tmax,100)\n",
    "y=1000.*sp.ones_like(x)\n",
    "lc=xLightCurve()\n",
    "lc.TemplateLightCurve(x,y)\n",
    "S=xSimulator(lc)\n",
    "S.SetMinMax(tmin,tmax)\n",
    "S.generate()\n",
    "S.plot(100)"
   ]
  },
  {
   "cell_type": "code",
   "execution_count": 287,
   "metadata": {
    "collapsed": false
   },
   "outputs": [
    {
     "name": "stdout",
     "output_type": "stream",
     "text": [
      "Done\n"
     ]
    },
    {
     "data": {
      "text/plain": [
       "353"
      ]
     },
     "execution_count": 287,
     "metadata": {},
     "output_type": "execute_result"
    },
    {
     "data": {
      "image/png": "[encoded data removed]",
      "text/plain": [
       "<matplotlib.figure.Figure at 0x1159cead0>"
      ]
     },
     "metadata": {},
     "output_type": "display_data"
    }
   ],
   "source": [
    "import astropy\n",
    "from astropy.io import fits\n",
    "class xAeff(object):\n",
    "    def load_arf(self,myFile):\n",
    "        hdulist = fits.open(myFile)\n",
    "        data=hdulist['SPECRESP'].data\n",
    "        self.ENERG_LO=data.field('ENERG_LO')\n",
    "        self.ENERG_HI=data.field('ENERG_HI')\n",
    "        self.SPECRESP=data.field('SPECRESP') # cm^2\n",
    "        self.CentralEnergy=(self.ENERG_HI+self.ENERG_LO)*0.5        \n",
    "        pass\n",
    "    \n",
    "    def convolve(self,dNdE):  \n",
    "        # dNdE is in ph/cm^2/s/keV\n",
    "        return self.CentralEnergy,self.SPECRESP*dNdE(self.CentralEnergy)\n",
    "        \n",
    "\n",
    "aeff=xAeff()\n",
    "aeff.load_arf('../irf/fits/xipe_proposal.arf')\n",
    "\n",
    "\n",
    "x,y=aeff.convolve(Crab.components[0])\n",
    "f = interpolate.UnivariateSpline(x,y,k=1,s=0)\n",
    "#plt.plot(x,Crab.components[0](x))\n",
    "\n",
    "#plt.plot(x,y)\n",
    "#plt.plot(x,f(x))\n",
    "S=xSimulator(f,f.integral)\n",
    "S.setMinMax(1,10)\n",
    "S.generate()\n",
    "S.plot()\n",
    "plt.xscale('log')\n",
    "plt.yscale('log')\n",
    "S.nEvents"
   ]
  },
  {
   "cell_type": "code",
   "execution_count": 210,
   "metadata": {
    "collapsed": false
   },
   "outputs": [
    {
     "data": {
      "text/plain": [
       "array([ 1.00548119,  1.00897353,  1.01402756, ...,  9.84914435,\n",
       "        9.86744118,  9.88262894])"
      ]
     },
     "execution_count": 210,
     "metadata": {},
     "output_type": "execute_result"
    },
    {
     "data": {
      "image/png": "[encoded data removed]",
      "text/plain": [
       "<matplotlib.figure.Figure at 0x11466d710>"
      ]
     },
     "metadata": {},
     "output_type": "display_data"
    }
   ],
   "source": [
    "S.plot()\n",
    "S.events"
   ]
  },
  {
   "cell_type": "code",
   "execution_count": 133,
   "metadata": {
    "collapsed": false
   },
   "outputs": [
    {
     "name": "stdout",
     "output_type": "stream",
     "text": [
      "Done\n"
     ]
    },
    {
     "data": {
      "image/png": "[encoded data removed]",
      "text/plain": [
       "<matplotlib.figure.Figure at 0x112eb56d0>"
      ]
     },
     "metadata": {},
     "output_type": "display_data"
    }
   ],
   "source": [
    "def dNdE(energy): \n",
    "    return 1.0*sp.power(energy,-4.8)\n",
    "\n",
    "x,y=aeff.convolve(dNdE)\n",
    "f = interpolate.UnivariateSpline(x,y,k=1,s=0)\n",
    "\n",
    "\n",
    "#plt.plot(x,y)\n",
    "#plt.plot(x,f(x))\n",
    "S=xSimulator(f,f.integral)\n",
    "S.SetMinMax(0.1,100)\n",
    "S.generate()\n",
    "S.plot()\n",
    "plt.xscale('log')\n",
    "plt.yscale('log')\n"
   ]
  },
  {
   "cell_type": "code",
   "execution_count": 136,
   "metadata": {
    "collapsed": false
   },
   "outputs": [
    {
     "data": {
      "text/plain": [
       "22779"
      ]
     },
     "execution_count": 136,
     "metadata": {},
     "output_type": "execute_result"
    }
   ],
   "source": [
    "len(S.events)"
   ]
  },
  {
   "cell_type": "code",
   "execution_count": 242,
   "metadata": {
    "collapsed": true
   },
   "outputs": [],
   "source": [
    "x=sp.linspace(-5,5,10)"
   ]
  },
  {
   "cell_type": "code",
   "execution_count": 243,
   "metadata": {
    "collapsed": false
   },
   "outputs": [
    {
     "data": {
      "text/plain": [
       "array([-5.        , -3.88888889, -2.77777778, -1.66666667, -0.55555556,\n",
       "        0.55555556,  1.66666667,  2.77777778,  3.88888889,  5.        ])"
      ]
     },
     "execution_count": 243,
     "metadata": {},
     "output_type": "execute_result"
    }
   ],
   "source": [
    "x"
   ]
  },
  {
   "cell_type": "code",
   "execution_count": 278,
   "metadata": {
    "collapsed": false
   },
   "outputs": [
    {
     "data": {
      "text/plain": [
       "array([], dtype=float64)"
      ]
     },
     "execution_count": 278,
     "metadata": {},
     "output_type": "execute_result"
    }
   ],
   "source": [
    "Crab.components"
   ]
  },
  {
   "cell_type": "code",
   "execution_count": null,
   "metadata": {
    "collapsed": true
   },
   "outputs": [],
   "source": []
  }
 ],
 "metadata": {
  "kernelspec": {
   "display_name": "Python 2",
   "language": "python",
   "name": "python2"
  },
  "language_info": {
   "codemirror_mode": {
    "name": "ipython",
    "version": 2
   },
   "file_extension": ".py",
   "mimetype": "text/x-python",
   "name": "python",
   "nbconvert_exporter": "python",
   "pygments_lexer": "ipython2",
   "version": "2.7.9"
  }
 },
 "nbformat": 4,
 "nbformat_minor": 0
}
